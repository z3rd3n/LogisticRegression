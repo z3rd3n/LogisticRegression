{
 "cells": [
  {
   "cell_type": "markdown",
   "metadata": {},
   "source": [
    "### Create two datetime objects to easily conduct operations on the given date format."
   ]
  },
  {
   "cell_type": "markdown",
   "metadata": {},
   "source": [
    "**Assumptions**\n",
    "- Arriving office early and leaving late doesn't add up to working hours\n",
    "- Symmetric hour difference (non-negative results even when the inputs are exchanged)\n",
    "- Public holidays are excluded (country even state dependent)"
   ]
  },
  {
   "cell_type": "code",
   "execution_count": 2,
   "metadata": {},
   "outputs": [],
   "source": [
    "from datetime import datetime, timedelta\n",
    "from math import ceil"
   ]
  },
  {
   "cell_type": "code",
   "execution_count": 7,
   "metadata": {},
   "outputs": [
    {
     "name": "stdout",
     "output_type": "stream",
     "text": [
      "1\n"
     ]
    }
   ],
   "source": [
    "def calculate_hour_difference(timestamp1, timestamp2):\n",
    "    # Define the datetime format as specified in the mail\n",
    "    format = \"%Y/%m/%d %H:%M\"\n",
    "\n",
    "    # Convert input strings to datetime objects in given format\n",
    "    time1 = datetime.strptime(timestamp1, format)\n",
    "    time2 = datetime.strptime(timestamp2, format)\n",
    "\n",
    "    # Calculate the difference in seconds and convert to float hours\n",
    "    difference = (time2 - time1).total_seconds() / 3600.0\n",
    "\n",
    "    # Return the absolute full hour difference assuming symmetry\n",
    "    return ceil(abs(difference))\n",
    "\n",
    "# Example usage:\n",
    "print(calculate_hour_difference(\"2022/02/15 00:05\", \"2022/02/15 01:00\"))"
   ]
  },
  {
   "cell_type": "code",
   "execution_count": 8,
   "metadata": {},
   "outputs": [
    {
     "name": "stdout",
     "output_type": "stream",
     "text": [
      "8\n"
     ]
    }
   ],
   "source": [
    "def calculate_working_hours_difference(timestamp1, timestamp2):\n",
    "    format = \"%Y/%m/%d %H:%M\"\n",
    "\n",
    "    time1 = datetime.strptime(timestamp1, format)\n",
    "    time2 = datetime.strptime(timestamp2, format)\n",
    "\n",
    "    work_start_hour = 9\n",
    "    work_end_hour = 17\n",
    "\n",
    "    def round_to_next_hour(t):\n",
    "        if t.minute == 0 and t.second == 0:\n",
    "            return t\n",
    "        else:\n",
    "            return (t + timedelta(hours=1)).replace(minute=0, second=0)\n",
    "\n",
    "    working_hours = 0\n",
    "\n",
    "    # Since we don't know the ordering of the input, I assumed a symmetric calculation of hour difference\n",
    "    if time1 >= time2:\n",
    "        smallest_time = time2\n",
    "        largest_time = time1\n",
    "    else:\n",
    "        smallest_time = time1\n",
    "        largest_time = time2\n",
    "    \n",
    "\n",
    "    current_time = round_to_next_hour(smallest_time)\n",
    "    while current_time < largest_time:\n",
    "        # Check if current time is on a weekday and during working hours\n",
    "        if current_time.weekday() < 5 and work_start_hour <= current_time.hour < work_end_hour:\n",
    "            working_hours += 1\n",
    "\n",
    "        # Move to next hour\n",
    "        current_time += timedelta(hours=1)\n",
    "\n",
    "    return working_hours\n",
    "\n",
    "# Example usage:\n",
    "print(calculate_working_hours_difference(\"2022/02/14 08:55\", \"2022/02/14 17:05\"))"
   ]
  },
  {
   "cell_type": "code",
   "execution_count": 10,
   "metadata": {},
   "outputs": [
    {
     "name": "stdout",
     "output_type": "stream",
     "text": [
      "Working hours difference: 8  hours\n"
     ]
    }
   ],
   "source": [
    "def choose_function():\n",
    "    choice = input(\"Enter '1' to calculate full hour difference, '2' for working hours difference: \")\n",
    "    timestamp1 = input(\"Enter the first timestamp (YYYY/MM/DD HH:MM): \")\n",
    "    timestamp2 = input(\"Enter the second timestamp (YYYY/MM/DD HH:MM): \")\n",
    "    \n",
    "    if choice == '1':\n",
    "        print(\"Full hour difference:\", calculate_hour_difference(timestamp1, timestamp2), \"hours\")\n",
    "    elif choice == '2':\n",
    "        print(\"Working hours difference:\", calculate_working_hours_difference(timestamp1, timestamp2), \"hours\")\n",
    "    else:\n",
    "        print(\"Invalid choice.\")\n",
    "\n",
    "choose_function()"
   ]
  }
 ],
 "metadata": {
  "kernelspec": {
   "display_name": "cloudspace",
   "language": "python",
   "name": "python3"
  },
  "language_info": {
   "codemirror_mode": {
    "name": "ipython",
    "version": 3
   },
   "file_extension": ".py",
   "mimetype": "text/x-python",
   "name": "python",
   "nbconvert_exporter": "python",
   "pygments_lexer": "ipython3",
   "version": "3.10.10"
  }
 },
 "nbformat": 4,
 "nbformat_minor": 2
}
